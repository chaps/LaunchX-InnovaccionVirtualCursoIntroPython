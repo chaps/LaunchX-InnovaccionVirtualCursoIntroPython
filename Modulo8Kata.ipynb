{
 "cells": [
  {
   "cell_type": "markdown",
   "source": [
    "## Ejercicio 1: Creación de diccionarios de Python\r\n",
    "### Ejercicio: Crear y modificar un diccionario de Python\r\n",
    "\r\n",
    "Para este ejercicio, crearás un diccionario que almacene información sobre el planeta Marte.\r\n",
    "\r\n",
    "\r\n",
    "Agrega el código para crear un nuevo diccionario denominado 'planet'. Rellena con la siguiente información:\r\n",
    "\r\n",
    "name: Mars\r\n",
    "moons: 2\r\n",
    "\r\n",
    "\r\n",
    "Para recuperar valores, puede utilizar el método get o corchetes ([ ]) con el nombre de la clave que desea recuperar.\r\n",
    "\r\n",
    "# Muestra el nombre del planeta y el número de lunas que tiene.\r\n",
    "print(f\"{planet['name']} has {planet.get('moons')} moons.\")\r\n",
    "Mars has 2 moons.\r\n",
    "Puedes actualizar las claves existentes o crear otras nuevas utilizando el método update o entre corchetes ([ ]). Cuando se usa update, se pasa un nuevo objeto de diccionario con los valores actualizados o nuevos. Cuando se usan corchetes, se especifica el nombre de la clave y se asigna un nuevo valor.\r\n",
    "\r\n",
    "demo['new_key'] = 'New value'\r\n",
    "Agrega un nuevo valor con una clave de 'circunferencia (km)'. Este nuevo valor debería almacenar un diccionario con las dos circunferencias del planeta:\r\n",
    "\r\n",
    "polar: 6752\r\n",
    "equatorial: 6792\r\n",
    "# Agrega la clave circunferencia con los datos proporcionados previamente\r\n",
    "planet['circumference'] = {\r\n",
    "    'polar': 6752,\r\n",
    "    'equatorial': 6792\r\n",
    "}\r\n",
    "Imprime el nombre del planeta con su circunferencia polar.\r\n",
    "\r\n",
    "# Imprime el nombre del planeta con su circunferencia polar.\r\n",
    "print(f\"{planet['name']} has a polar circumference of {planet['circumference']['polar']}\")\r\n",
    "Mars has a polar circumference of 6752\r\n",
    "Recuerda: Lo importante es intentarlo, puedes auxiliarte de internet, libros, etc. El objetivo de una kata es la comprobación de la comprensión de la lección y su aplicación inmediata a la resolución de problemas. Go for it!\r\n",
    "\r\n",
    "\r\n"
   ],
   "metadata": {}
  },
  {
   "cell_type": "code",
   "execution_count": 2,
   "source": [
    "# Ejercicio 1:\r\n",
    "# Crea un diccionario llamado planet con los datos propuestos\r\n",
    "\r\n",
    "planeta = {\r\n",
    "    'nombre': 'Marte',\r\n",
    "    'lunas': 2\r\n",
    "}\r\n",
    "# Muestra el nombre del planeta y el número de lunas que tiene.\r\n",
    "\r\n",
    "print(f'{planeta[\"nombre\"]} tiene {planeta[\"lunas\"]} lunas')\r\n",
    "# Agrega la clave circunferencia con los datos proporcionados previamente\r\n",
    "\r\n",
    "planeta['circunferencia (km)'] = {\r\n",
    "    'polar': 6752,\r\n",
    "    'ecuatorial': 6792\r\n",
    "}\r\n",
    "# Imprime el nombre del planeta con su circunferencia polar.\r\n",
    "\r\n",
    "print(f'{planeta[\"nombre\"]} tiene una circunferencia polar de: {planeta[\"circunferencia (km)\"][\"polar\"]}')"
   ],
   "outputs": [
    {
     "output_type": "stream",
     "name": "stdout",
     "text": [
      "Marte tiene 2 lunas\n",
      "Marte tiene una circunferencia polar de: 6752\n"
     ]
    }
   ],
   "metadata": {}
  },
  {
   "cell_type": "markdown",
   "source": [
    "## Ejercicio 2: Programación dinámica con diccionarios\r\n",
    "### Ejercicio: Cálculo de valores\r\n",
    "En este escenario, calcularás tanto el número total de lunas en el sistema solar como el número promedio de lunas que tiene un planeta.\r\n",
    "\r\n",
    "Los diccionarios de Python te permiten recuperar todos los valores y claves utilizando los métodos values y keys, respectivamente. Cada método devuelve una lista que contiene los datos, que luego se puede usar como una lista normal de Python. Puedes determinar el número de elementos mediante len, e iterar a través de él mediante un ciclo for.\r\n",
    "\r\n",
    "Agrega el código a continuación para determinar el número de lunas. Comienza almacenando el valor values de planet_moons en una variable denominada moons. A continuación, almacena el número de planetas en una variable denominada planets.\r\n",
    "\r\n",
    "# Añade el código para determinar el número de lunas.\r\n",
    "moons = planet_moons.values()\r\n",
    "planets = len(planet_moons)\r\n",
    "Agrega el código para contar el número de lunas. Puedes hacerlo creando un ciclo for para iterar a través de las lunas moons y agregándolos a una variable denominada total_moons. Finalmente calcule el promedio dividiendo total_moons por planets e imprimiendo los resultados.\r\n",
    "\r\n",
    "# Agrega el código para contar el número de lunas. \r\n",
    "total_moons = 0\r\n",
    "for n in moons:\r\n",
    "    total_moons += n\r\n",
    "\r\n",
    "avg_moons_per_planet = total_moons//planets\r\n",
    "\r\n",
    "print(f\"There are a total of {total_moons} moons that belong to the planets of the provided list, where the average of moons per planet is {avg_moons_per_planet}\")\r\n",
    "There are a total of 214 moons that belong to the planets of the provided list, where the average of moons per planet is 17\r\n",
    "\r\n"
   ],
   "metadata": {}
  },
  {
   "cell_type": "code",
   "execution_count": 3,
   "source": [
    "# Ejercicio 2\r\n",
    "# Añade el código para determinar el número de lunas.\r\n",
    "planeta_lunas = {\r\n",
    "    'mercury': 0,\r\n",
    "    'venus': 0,\r\n",
    "    'earth': 1,\r\n",
    "    'mars': 2,\r\n",
    "    'jupiter': 79,\r\n",
    "    'saturn': 82,\r\n",
    "    'uranus': 27,\r\n",
    "    'neptune': 14,\r\n",
    "    'pluto': 5,\r\n",
    "    'haumea': 2,\r\n",
    "    'makemake': 1,\r\n",
    "    'eris': 1\r\n",
    "}\r\n",
    "\r\n",
    "# Obtenemos la lista de las lunas\r\n",
    "lunas = planeta_lunas.values()\r\n",
    "\r\n",
    "# Obtenemos el total de planetas\r\n",
    "planetas = len(planeta_lunas.keys())\r\n",
    "# Calcula el total_moons agregando todas las lunas\r\n",
    "# Almacena su valor en una variable llamada total_moons\r\n",
    "\r\n",
    "total_lunas = 0\r\n",
    "for luna in lunas:\r\n",
    "    total_lunas= total_lunas + luna\r\n",
    "\r\n",
    "# Calcula el promedio dividiendo el total de lunas por el número de planetas\r\n",
    "promedio = total_lunas / planetas\r\n",
    "# Muestra el promedio\r\n",
    "print(promedio)"
   ],
   "outputs": [
    {
     "output_type": "stream",
     "name": "stdout",
     "text": [
      "17.833333333333332\n"
     ]
    }
   ],
   "metadata": {}
  }
 ],
 "metadata": {
  "orig_nbformat": 4,
  "language_info": {
   "name": "python",
   "version": "3.9.5",
   "mimetype": "text/x-python",
   "codemirror_mode": {
    "name": "ipython",
    "version": 3
   },
   "pygments_lexer": "ipython3",
   "nbconvert_exporter": "python",
   "file_extension": ".py"
  },
  "kernelspec": {
   "name": "python3",
   "display_name": "Python 3.9.5 64-bit ('env': venv)"
  },
  "interpreter": {
   "hash": "b7aaece06d7563a57f78cab124ff151e5f4a2e7bfbbc3e8ad424cf5ed83bed68"
  }
 },
 "nbformat": 4,
 "nbformat_minor": 2
}