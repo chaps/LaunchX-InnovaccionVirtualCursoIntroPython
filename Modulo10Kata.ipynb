{
 "cells": [
  {
   "cell_type": "markdown",
   "source": [
    "## Intenta realizar los ejercicios descritos en este documento.\r\n",
    "\r\n",
    "## Escenario: Creación de un programa de cohetes\r\n",
    "\r\n",
    "\r\n",
    "### Uso de tracebacks para buscar errores\r\n",
    "\r\n",
    "\r\n",
    "\r\n",
    "\r\n",
    "\r\n",
    "Se trata de una sola función main() que abre el archivo inexistente, como antes. Al final, esta función usa un asistente de Python que indica al intérprete que ejecute la función main() cuando se le llama en el terminal. Ejecútala con Python y podrás comprobar el siguiente mensaje de error:\r\n",
    "\r\n",
    "$ python3 open.py\r\n",
    "Traceback (most recent call last):\r\n",
    "  File \"/tmp/open.py\", line 5, in <module>\r\n",
    "    main()\r\n",
    "  File \"/tmp/open.py\", line 2, in main\r\n",
    "    open(\"/path/to/mars.jpg\")\r\n",
    "FileNotFoundError: [Errno 2] No such file or directory: '/path/to/mars.jpg'\r\n",
    "La salida de error tiene más sentido ahora. Las rutas de acceso apuntan a un único archivo denominado open.py. La salida menciona que el error se inicia en la línea 5, que incluye la llamada a main(). A continuación, la salida sigue el error a la línea 2 en la llamada de función open(). Y, por último, FileNotFoundError notifica de nuevo que el archivo o el directorio no existen.\r\n",
    "\r\n",
    "\r\n",
    "\r\n"
   ],
   "metadata": {}
  },
  {
   "cell_type": "code",
   "execution_count": 1,
   "source": [
    "def main():\r\n",
    "    open(\"/path/to/mars.jpg\")\r\n",
    "\r\n",
    "if __name__ == '__main__':\r\n",
    "    main()"
   ],
   "outputs": [
    {
     "output_type": "error",
     "ename": "FileNotFoundError",
     "evalue": "[Errno 2] No such file or directory: '/path/to/mars.jpg'",
     "traceback": [
      "\u001b[1;31m---------------------------------------------------------------------------\u001b[0m",
      "\u001b[1;31mFileNotFoundError\u001b[0m                         Traceback (most recent call last)",
      "Input \u001b[1;32mIn [1]\u001b[0m, in \u001b[0;36m<module>\u001b[1;34m\u001b[0m\n\u001b[0;32m      2\u001b[0m     \u001b[38;5;28mopen\u001b[39m(\u001b[38;5;124m\"\u001b[39m\u001b[38;5;124m/path/to/mars.jpg\u001b[39m\u001b[38;5;124m\"\u001b[39m)\n\u001b[0;32m      4\u001b[0m \u001b[38;5;28;01mif\u001b[39;00m \u001b[38;5;18m__name__\u001b[39m \u001b[38;5;241m==\u001b[39m \u001b[38;5;124m'\u001b[39m\u001b[38;5;124m__main__\u001b[39m\u001b[38;5;124m'\u001b[39m:\n\u001b[1;32m----> 5\u001b[0m     \u001b[43mmain\u001b[49m\u001b[43m(\u001b[49m\u001b[43m)\u001b[49m\n",
      "Input \u001b[1;32mIn [1]\u001b[0m, in \u001b[0;36mmain\u001b[1;34m()\u001b[0m\n\u001b[0;32m      1\u001b[0m \u001b[38;5;28;01mdef\u001b[39;00m \u001b[38;5;21mmain\u001b[39m():\n\u001b[1;32m----> 2\u001b[0m     \u001b[38;5;28;43mopen\u001b[39;49m\u001b[43m(\u001b[49m\u001b[38;5;124;43m\"\u001b[39;49m\u001b[38;5;124;43m/path/to/mars.jpg\u001b[39;49m\u001b[38;5;124;43m\"\u001b[39;49m\u001b[43m)\u001b[49m\n",
      "\u001b[1;31mFileNotFoundError\u001b[0m: [Errno 2] No such file or directory: '/path/to/mars.jpg'"
     ]
    }
   ],
   "metadata": {}
  },
  {
   "cell_type": "markdown",
   "source": [
    "Try y Except de los bloques\r\n",
    "Vamos a usar el ejemplo de navegador a fin de crear código que abra archivos de configuración para la misión de Marte. Los archivos de configuración pueden tener todo tipo de problemas, por lo que es fundamental notificarlos con precisión cuando se presenten. Sabemos que, si no existe un archivo o directorio, se genera FileNotFoundError. Si queremos controlar esa excepción, podemos hacerlo con un bloque try y except:\r\n",
    "\r\n",
    ">>> try:\r\n",
    "...     open('config.txt')\r\n",
    "... except FileNotFoundError:\r\n",
    "...     print(\"Couldn't find the config.txt file!\")\r\n",
    "...\r\n",
    "Couldn't find the config.txt file!\r\n",
    "\r\n",
    "Después de la palabra clave try, agregamos código que tenga la posibilidad de producir una excepción. A continuación, agregamos la palabra clave except junto con la posible excepción, seguida de cualquier código que deba ejecutarse cuando se produce esa condición. Puesto que config.txt no existe en el sistema, Python imprime que el archivo de configuración no está ahí. El bloque try y except, junto con un mensaje útil, evita un seguimiento y sigue informando al usuario sobre el problema.\r\n",
    "\r\n"
   ],
   "metadata": {}
  },
  {
   "cell_type": "code",
   "execution_count": 2,
   "source": [
    "try:\r\n",
    "    open('config.txt')\r\n",
    "except FileNotFoundError:\r\n",
    "    print(\"Couldn't find the config.txt file!\")\r\n",
    "#Couldn't find the config.txt file!"
   ],
   "outputs": [
    {
     "output_type": "stream",
     "name": "stdout",
     "text": [
      "Couldn't find the config.txt file!\n"
     ]
    }
   ],
   "metadata": {}
  },
  {
   "cell_type": "markdown",
   "source": [
    "Aunque es común un archivo que no existe, no es el único error que podemos encontrar. Los permisos de archivo no válidos pueden impedir la lectura de un archivo, incluso si este existe. Vamos a crear un archivo de Python denominado config.py. El archivo tiene código que busca y lee el archivo de configuración del sistema de navegación:"
   ],
   "metadata": {}
  },
  {
   "cell_type": "code",
   "execution_count": 3,
   "source": [
    "def main():\r\n",
    "    try:\r\n",
    "        configuration = open('config.txt')\r\n",
    "    except FileNotFoundError:\r\n",
    "        print(\"Couldn't find the config.txt file!\")\r\n",
    "\r\n",
    "\r\n",
    "if __name__ == '__main__':\r\n",
    "    main()"
   ],
   "outputs": [
    {
     "output_type": "stream",
     "name": "stdout",
     "text": [
      "Couldn't find the config.txt file!\n"
     ]
    }
   ],
   "metadata": {}
  },
  {
   "cell_type": "markdown",
   "source": [
    "A continuación, quita el archivo config.txt y creamos un directorio denominado config.txt. Intentaremos llamar al archivo config.py para ver un error nuevo que debería ser similar al siguiente:\r\n",
    "\r\n",
    "$ python config.py\r\n",
    "Traceback (most recent call last):\r\n",
    "  File \"/tmp/config.py\", line 9, in <module>\r\n",
    "    main()\r\n",
    "  File \"/tmp/config.py\", line 3, in main\r\n",
    "    configuration = open('config.txt')\r\n",
    "IsADirectoryError: [Errno 21] Is a directory: 'config.txt'"
   ],
   "metadata": {}
  },
  {
   "cell_type": "code",
   "execution_count": 6,
   "source": [
    "# config.py\r\n",
    "! python config.py"
   ],
   "outputs": [
    {
     "output_type": "stream",
     "name": "stderr",
     "text": [
      "Traceback (most recent call last):\n",
      "  File \"c:\\Users\\PC\\coding\\LaunchX-InnovaccionVirtualCursoIntroPython\\config.py\", line 1, in <module>\n",
      "    open(\"config.txt\")\n",
      "PermissionError: [Errno 13] Permission denied: 'config.txt'\n"
     ]
    }
   ],
   "metadata": {}
  },
  {
   "cell_type": "markdown",
   "source": [
    "Una manera poco útil de controlar este error sería detectar todas las excepciones posibles para evitar un traceback. Para comprender por qué detectar todas las excepciones es problemático, probaremos actualizando la función main():\r\n",
    "\r\n",
    "def main():\r\n",
    "    try:\r\n",
    "        configuration = open('config.txt')\r\n",
    "    except Exception:\r\n",
    "        print(\"Couldn't find the config.txt file!\")\r\n",
    "Ahora volvemos a ejecutar el código en el mismo lugar donde existe el archivo config.txt con permisos incorrectos:\r\n",
    "\r\n",
    "$ python config.py\r\n",
    "Couldn't find the config.txt file!"
   ],
   "metadata": {}
  },
  {
   "cell_type": "code",
   "execution_count": 8,
   "source": [
    "def main():\r\n",
    "    try:\r\n",
    "        configuration = open('config.txt')\r\n",
    "    except Exception:\r\n",
    "        print(\"Couldn't find the config.txt file!\")\r\n",
    "main()"
   ],
   "outputs": [
    {
     "output_type": "stream",
     "name": "stdout",
     "text": [
      "Couldn't find the config.txt file!\n"
     ]
    }
   ],
   "metadata": {}
  },
  {
   "cell_type": "markdown",
   "source": [
    "Revertiremos la detección de FileNotFoundError y luego agregamos otro bloque except para detectar PermissionError:\r\n",
    "\r\n",
    "def main():\r\n",
    "    try:\r\n",
    "        configuration = open('config.txt')\r\n",
    "    except FileNotFoundError:\r\n",
    "        print(\"Couldn't find the config.txt file!\")\r\n",
    "    except IsADirectoryError:\r\n",
    "        print(\"Found config.txt but it is a directory, couldn't read it\")\r\n",
    "Ahora volvemos a ejecutarlo, en el mismo lugar donde config.txt está con el problema de permisos:\r\n",
    "\r\n",
    "$ python config.py\r\n",
    "Found config.txt but couldn't read it"
   ],
   "metadata": {}
  },
  {
   "cell_type": "code",
   "execution_count": 10,
   "source": [
    "def main():\r\n",
    "    try:\r\n",
    "        configuration = open('config.txt')\r\n",
    "    except FileNotFoundError:\r\n",
    "        print(\"Couldn't find the config.txt file!\")\r\n",
    "    except IsADirectoryError:\r\n",
    "        print(\"Found config.txt but it is a directory, couldn't read it\")\r\n",
    "\r\n",
    "main()"
   ],
   "outputs": [
    {
     "output_type": "error",
     "ename": "PermissionError",
     "evalue": "[Errno 13] Permission denied: 'config.txt'",
     "traceback": [
      "\u001b[1;31m---------------------------------------------------------------------------\u001b[0m",
      "\u001b[1;31mPermissionError\u001b[0m                           Traceback (most recent call last)",
      "Input \u001b[1;32mIn [10]\u001b[0m, in \u001b[0;36m<module>\u001b[1;34m\u001b[0m\n\u001b[0;32m      6\u001b[0m     \u001b[38;5;28;01mexcept\u001b[39;00m \u001b[38;5;167;01mIsADirectoryError\u001b[39;00m:\n\u001b[0;32m      7\u001b[0m         \u001b[38;5;28mprint\u001b[39m(\u001b[38;5;124m\"\u001b[39m\u001b[38;5;124mFound config.txt but it is a directory, couldn\u001b[39m\u001b[38;5;124m'\u001b[39m\u001b[38;5;124mt read it\u001b[39m\u001b[38;5;124m\"\u001b[39m)\n\u001b[1;32m----> 9\u001b[0m \u001b[43mmain\u001b[49m\u001b[43m(\u001b[49m\u001b[43m)\u001b[49m\n",
      "Input \u001b[1;32mIn [10]\u001b[0m, in \u001b[0;36mmain\u001b[1;34m()\u001b[0m\n\u001b[0;32m      1\u001b[0m \u001b[38;5;28;01mdef\u001b[39;00m \u001b[38;5;21mmain\u001b[39m():\n\u001b[0;32m      2\u001b[0m     \u001b[38;5;28;01mtry\u001b[39;00m:\n\u001b[1;32m----> 3\u001b[0m         configuration \u001b[38;5;241m=\u001b[39m \u001b[38;5;28;43mopen\u001b[39;49m\u001b[43m(\u001b[49m\u001b[38;5;124;43m'\u001b[39;49m\u001b[38;5;124;43mconfig.txt\u001b[39;49m\u001b[38;5;124;43m'\u001b[39;49m\u001b[43m)\u001b[49m\n\u001b[0;32m      4\u001b[0m     \u001b[38;5;28;01mexcept\u001b[39;00m \u001b[38;5;167;01mFileNotFoundError\u001b[39;00m:\n\u001b[0;32m      5\u001b[0m         \u001b[38;5;28mprint\u001b[39m(\u001b[38;5;124m\"\u001b[39m\u001b[38;5;124mCouldn\u001b[39m\u001b[38;5;124m'\u001b[39m\u001b[38;5;124mt find the config.txt file!\u001b[39m\u001b[38;5;124m\"\u001b[39m)\n",
      "\u001b[1;31mPermissionError\u001b[0m: [Errno 13] Permission denied: 'config.txt'"
     ]
    }
   ],
   "metadata": {}
  },
  {
   "cell_type": "markdown",
   "source": [
    "Eliminamos el archivo config.txt para asegurarnos de que se alcanza el primer bloque except en su lugar:\r\n",
    "\r\n",
    "$ rm -f config.txt\r\n",
    "$ python config.py\r\n",
    "Couldn't find the config.txt file!\r\n",
    "Cuando los errores son de una naturaleza similar y no es necesario controlarlos individualmente, puedes agrupar las excepciones como una usando paréntesis en la línea except. Por ejemplo, si el sistema de navegación está bajo cargas pesadas y el sistema de archivos está demasiado ocupado, tiene sentido detectar BlockingIOError y TimeOutError juntos:\r\n",
    "\r\n",
    "def main():\r\n",
    "    try:\r\n",
    "        configuration = open('config.txt')\r\n",
    "    except FileNotFoundError:\r\n",
    "        print(\"Couldn't find the config.txt file!\")\r\n",
    "    except IsADirectoryError:\r\n",
    "        print(\"Found config.txt but it is a directory, couldn't read it\")\r\n",
    "    except (BlockingIOError, TimeoutError):\r\n",
    "        print(\"Filesystem under heavy load, can't complete reading configuration file\")\r\n",
    "\r\n",
    "\r\n",
    "Si necesitas acceder al error asociado a la excepción, debes actualizar la línea except para incluir la palabra clave as. Esta técnica es práctica si una excepción es demasiado genérica y el mensaje de error puede ser útil:\r\n",
    "\r\n",
    ">>> try:\r\n",
    "...     open(\"mars.jpg\")\r\n",
    "... except FileNotFoundError as err:\r\n",
    "...     print(\"got a problem trying to read the file:\", err)\r\n",
    "...\r\n",
    "got a problem trying to read the file: [Errno 2] No such file or directory: 'mars.jpg'\r\n",
    "En este caso, as err significa que err se convierte en una variable con el objeto de excepción como valor. Después, usa este valor para imprimir el mensaje de error asociado a la excepción. Otra razón para usar esta técnica es acceder directamente a los atributos del error. Por ejemplo, si detecta una excepción OSError más genérica, que es la excepción primaria de FilenotFoundError y PermissionError, podemos diferenciarlas mediante el atributo .errno:\r\n",
    "\r\n",
    ">>> try:\r\n",
    "...     open(\"config.txt\")\r\n",
    "... except OSError as err:\r\n",
    "...     if err.errno == 2:\r\n",
    "...         print(\"Couldn't find the config.txt file!\")\r\n",
    "...     elif err.errno == 13:\r\n",
    "...         print(\"Found config.txt but couldn't read it\")\r\n",
    "...\r\n",
    "Couldn't find the config.txt file!\r\n"
   ],
   "metadata": {}
  },
  {
   "cell_type": "code",
   "execution_count": 12,
   "source": [
    "! rmdir -f config.txt\r\n",
    "\r\n",
    "def main():\r\n",
    "    try:\r\n",
    "        configuration = open('config.txt')\r\n",
    "    except FileNotFoundError:\r\n",
    "        print(\"Couldn't find the config.txt file!\")\r\n",
    "    except IsADirectoryError:\r\n",
    "        print(\"Found config.txt but it is a directory, couldn't read it\")\r\n",
    "    except (BlockingIOError, TimeoutError):\r\n",
    "        print(\"Filesystem under heavy load, can't complete reading configuration file\")\r\n",
    "\r\n",
    "main()"
   ],
   "outputs": [
    {
     "output_type": "stream",
     "name": "stdout",
     "text": [
      "Couldn't find the config.txt file!\n"
     ]
    },
    {
     "output_type": "stream",
     "name": "stderr",
     "text": [
      "The system cannot find the file specified.\n"
     ]
    }
   ],
   "metadata": {}
  },
  {
   "cell_type": "markdown",
   "source": [
    "## Generación de excepciones\r\n",
    "\r\n",
    "Los astronautas limitan su uso de agua a unos 11 litros al día. Vamos a crear una función que, con base al número de astronautas, pueda calcular la cantidad de agua quedará después de un día o más:\r\n",
    "\r\n",
    "def water_left(astronauts, water_left, days_left):\r\n",
    "    daily_usage = astronauts * 11\r\n",
    "    total_usage = daily_usage * days_left\r\n",
    "    total_water_left = water_left - total_usage\r\n",
    "    return f\"Total water left after {days_left} days is: {total_water_left} liters\"\r\n",
    "PruProbemos con cinco astronautas, 100 litros de agua sobrante y dos días:\r\n",
    "\r\n",
    ">>> water_left(5, 100, 2)\r\n",
    "\r\n",
    "'Total water left after 2 days is: -10 liters'\r\n",
    "Esto no es muy útil, ya que una carencia en los litros sería un error. Después, el sistema de navegación podría alertar a los astronautas que no habrá suficiente agua para todos en dos días. \r\n"
   ],
   "metadata": {}
  },
  {
   "cell_type": "code",
   "execution_count": 14,
   "source": [
    "def water_left(astronauts, water_left, days_left):\r\n",
    "    daily_usage = astronauts * 11\r\n",
    "    total_usage = daily_usage * days_left\r\n",
    "    total_water_left = water_left - total_usage\r\n",
    "    return f\"Total water left after {days_left} days is: {total_water_left} liters\"\r\n",
    "#Probemos con cinco astronautas, 100 litros de agua sobrante y dos días:\r\n",
    "\r\n",
    "water_left(5, 100, 2)"
   ],
   "outputs": [
    {
     "output_type": "execute_result",
     "data": {
      "text/plain": [
       "'Total water left after 2 days is: -10 liters'"
      ]
     },
     "metadata": {},
     "execution_count": 14
    }
   ],
   "metadata": {}
  },
  {
   "cell_type": "markdown",
   "source": [
    "Si eres un ingeniero(a) que programa el sistema de navegación, podrías generar una excepción en la función water_left() para alertar de la condición de error:\r\n",
    "\r\n",
    "def water_left(astronauts, water_left, days_left):\r\n",
    "    daily_usage = astronauts * 11\r\n",
    "    total_usage = daily_usage * days_left\r\n",
    "    total_water_left = water_left - total_usage\r\n",
    "    if total_water_left < 0:\r\n",
    "        raise RuntimeError(f\"There is not enough water for {astronauts} astronauts after {days_left} days!\")\r\n",
    "    return f\"Total water left after {days_left} days is: {total_water_left} liters\"\r\n",
    "Ahora volvemos a ejecutarlo\r\n",
    "\r\n",
    ">>> water_left(5, 100, 2)\r\n",
    "Traceback (most recent call last):\r\n",
    "  File \"<stdin>\", line 1, in <module>\r\n",
    "  File \"<stdin>\", line 6, in water_left\r\n",
    "RuntimeError: There is not enough water for 5 astronauts after 2 days!\r\n"
   ],
   "metadata": {}
  },
  {
   "cell_type": "code",
   "execution_count": 15,
   "source": [
    "def water_left(astronauts, water_left, days_left):\r\n",
    "    daily_usage = astronauts * 11\r\n",
    "    total_usage = daily_usage * days_left\r\n",
    "    total_water_left = water_left - total_usage\r\n",
    "    if total_water_left < 0:\r\n",
    "        raise RuntimeError(f\"There is not enough water for {astronauts} astronauts after {days_left} days!\")\r\n",
    "    return f\"Total water left after {days_left} days is: {total_water_left} liters\"\r\n",
    "#Ahora volvemos a ejecutarlo\r\n",
    "\r\n",
    "water_left(5, 100, 2)"
   ],
   "outputs": [
    {
     "output_type": "error",
     "ename": "RuntimeError",
     "evalue": "There is not enough water for 5 astronauts after 2 days!",
     "traceback": [
      "\u001b[1;31m---------------------------------------------------------------------------\u001b[0m",
      "\u001b[1;31mRuntimeError\u001b[0m                              Traceback (most recent call last)",
      "Input \u001b[1;32mIn [15]\u001b[0m, in \u001b[0;36m<module>\u001b[1;34m\u001b[0m\n\u001b[0;32m      7\u001b[0m     \u001b[38;5;28;01mreturn\u001b[39;00m \u001b[38;5;124mf\u001b[39m\u001b[38;5;124m\"\u001b[39m\u001b[38;5;124mTotal water left after \u001b[39m\u001b[38;5;132;01m{\u001b[39;00mdays_left\u001b[38;5;132;01m}\u001b[39;00m\u001b[38;5;124m days is: \u001b[39m\u001b[38;5;132;01m{\u001b[39;00mtotal_water_left\u001b[38;5;132;01m}\u001b[39;00m\u001b[38;5;124m liters\u001b[39m\u001b[38;5;124m\"\u001b[39m\n\u001b[0;32m      8\u001b[0m \u001b[38;5;66;03m#Ahora volvemos a ejecutarlo\u001b[39;00m\n\u001b[1;32m---> 10\u001b[0m \u001b[43mwater_left\u001b[49m\u001b[43m(\u001b[49m\u001b[38;5;241;43m5\u001b[39;49m\u001b[43m,\u001b[49m\u001b[43m \u001b[49m\u001b[38;5;241;43m100\u001b[39;49m\u001b[43m,\u001b[49m\u001b[43m \u001b[49m\u001b[38;5;241;43m2\u001b[39;49m\u001b[43m)\u001b[49m\n",
      "Input \u001b[1;32mIn [15]\u001b[0m, in \u001b[0;36mwater_left\u001b[1;34m(astronauts, water_left, days_left)\u001b[0m\n\u001b[0;32m      4\u001b[0m total_water_left \u001b[38;5;241m=\u001b[39m water_left \u001b[38;5;241m-\u001b[39m total_usage\n\u001b[0;32m      5\u001b[0m \u001b[38;5;28;01mif\u001b[39;00m total_water_left \u001b[38;5;241m<\u001b[39m \u001b[38;5;241m0\u001b[39m:\n\u001b[1;32m----> 6\u001b[0m     \u001b[38;5;28;01mraise\u001b[39;00m \u001b[38;5;167;01mRuntimeError\u001b[39;00m(\u001b[38;5;124mf\u001b[39m\u001b[38;5;124m\"\u001b[39m\u001b[38;5;124mThere is not enough water for \u001b[39m\u001b[38;5;132;01m{\u001b[39;00mastronauts\u001b[38;5;132;01m}\u001b[39;00m\u001b[38;5;124m astronauts after \u001b[39m\u001b[38;5;132;01m{\u001b[39;00mdays_left\u001b[38;5;132;01m}\u001b[39;00m\u001b[38;5;124m days!\u001b[39m\u001b[38;5;124m\"\u001b[39m)\n\u001b[0;32m      7\u001b[0m \u001b[38;5;28;01mreturn\u001b[39;00m \u001b[38;5;124mf\u001b[39m\u001b[38;5;124m\"\u001b[39m\u001b[38;5;124mTotal water left after \u001b[39m\u001b[38;5;132;01m{\u001b[39;00mdays_left\u001b[38;5;132;01m}\u001b[39;00m\u001b[38;5;124m days is: \u001b[39m\u001b[38;5;132;01m{\u001b[39;00mtotal_water_left\u001b[38;5;132;01m}\u001b[39;00m\u001b[38;5;124m liters\u001b[39m\u001b[38;5;124m\"\u001b[39m\n",
      "\u001b[1;31mRuntimeError\u001b[0m: There is not enough water for 5 astronauts after 2 days!"
     ]
    }
   ],
   "metadata": {}
  },
  {
   "cell_type": "markdown",
   "source": [
    "En el sistema de navegación, el código para señalar la alerta ahora puede usar RuntimeError para generar la alerta:\r\n",
    "\r\n",
    "try:\r\n",
    "    water_left(5, 100, 2)\r\n",
    "except RuntimeError as err:\r\n",
    "    alert_navigation_system(err)\r\n",
    "La función water_left() también se puede actualizar para evitar el paso de tipos no admitidos. Intentenis pasar argumentos que no sean enteros para comprobar la salida de error:\r\n",
    "\r\n",
    ">>> water_left(\"3\", \"200\", None)\r\n",
    "Traceback (most recent call last):\r\n",
    "  File \"<stdin>\", line 1, in <module>\r\n",
    "  File \"<stdin>\", line 3, in water_left\r\n",
    "TypeError: can't multiply sequence by non-int of type 'NoneType'\r\n",
    "\r\n"
   ],
   "metadata": {}
  },
  {
   "cell_type": "code",
   "execution_count": 17,
   "source": [
    "def alert_navigation_system(err):\r\n",
    "    print(err)\r\n",
    "\r\n",
    "try:\r\n",
    "    water_left(5, 100, 2)\r\n",
    "except RuntimeError as err:\r\n",
    "    alert_navigation_system(err)\r\n",
    "#La función water_left() también se puede actualizar para evitar el paso de tipos no admitidos. Intentenis pasar argumentos que no sean enteros para comprobar la salida de error:\r\n",
    "\r\n",
    "water_left(\"3\", \"200\", None)"
   ],
   "outputs": [
    {
     "output_type": "stream",
     "name": "stdout",
     "text": [
      "There is not enough water for 5 astronauts after 2 days!\n"
     ]
    },
    {
     "output_type": "error",
     "ename": "TypeError",
     "evalue": "can't multiply sequence by non-int of type 'NoneType'",
     "traceback": [
      "\u001b[1;31m---------------------------------------------------------------------------\u001b[0m",
      "\u001b[1;31mTypeError\u001b[0m                                 Traceback (most recent call last)",
      "Input \u001b[1;32mIn [17]\u001b[0m, in \u001b[0;36m<module>\u001b[1;34m\u001b[0m\n\u001b[0;32m      7\u001b[0m     alert_navigation_system(err)\n\u001b[0;32m      8\u001b[0m \u001b[38;5;66;03m#La función water_left() también se puede actualizar para evitar el paso de tipos no admitidos. Intentenis pasar argumentos que no sean enteros para comprobar la salida de error:\u001b[39;00m\n\u001b[1;32m---> 10\u001b[0m \u001b[43mwater_left\u001b[49m\u001b[43m(\u001b[49m\u001b[38;5;124;43m\"\u001b[39;49m\u001b[38;5;124;43m3\u001b[39;49m\u001b[38;5;124;43m\"\u001b[39;49m\u001b[43m,\u001b[49m\u001b[43m \u001b[49m\u001b[38;5;124;43m\"\u001b[39;49m\u001b[38;5;124;43m200\u001b[39;49m\u001b[38;5;124;43m\"\u001b[39;49m\u001b[43m,\u001b[49m\u001b[43m \u001b[49m\u001b[38;5;28;43;01mNone\u001b[39;49;00m\u001b[43m)\u001b[49m\n",
      "Input \u001b[1;32mIn [15]\u001b[0m, in \u001b[0;36mwater_left\u001b[1;34m(astronauts, water_left, days_left)\u001b[0m\n\u001b[0;32m      1\u001b[0m \u001b[38;5;28;01mdef\u001b[39;00m \u001b[38;5;21mwater_left\u001b[39m(astronauts, water_left, days_left):\n\u001b[0;32m      2\u001b[0m     daily_usage \u001b[38;5;241m=\u001b[39m astronauts \u001b[38;5;241m*\u001b[39m \u001b[38;5;241m11\u001b[39m\n\u001b[1;32m----> 3\u001b[0m     total_usage \u001b[38;5;241m=\u001b[39m \u001b[43mdaily_usage\u001b[49m\u001b[43m \u001b[49m\u001b[38;5;241;43m*\u001b[39;49m\u001b[43m \u001b[49m\u001b[43mdays_left\u001b[49m\n\u001b[0;32m      4\u001b[0m     total_water_left \u001b[38;5;241m=\u001b[39m water_left \u001b[38;5;241m-\u001b[39m total_usage\n\u001b[0;32m      5\u001b[0m     \u001b[38;5;28;01mif\u001b[39;00m total_water_left \u001b[38;5;241m<\u001b[39m \u001b[38;5;241m0\u001b[39m:\n",
      "\u001b[1;31mTypeError\u001b[0m: can't multiply sequence by non-int of type 'NoneType'"
     ]
    }
   ],
   "metadata": {}
  },
  {
   "cell_type": "markdown",
   "source": [
    "El error de TypeError no es muy descriptivo en el contexto de lo que espera la función. Actualizaremos la función para que use TypeError, pero con un mensaje mejor:\r\n",
    "\r\n",
    "def water_left(astronauts, water_left, days_left):\r\n",
    "    for argument in [astronauts, water_left, days_left]:\r\n",
    "        try:\r\n",
    "            # If argument is an int, the following operation will work\r\n",
    "            argument / 10\r\n",
    "        except TypeError:\r\n",
    "            # TypError will be raised only if it isn't the right type \r\n",
    "            # Raise the same exception but with a better error message\r\n",
    "            raise TypeError(f\"All arguments must be of type int, but received: '{argument}'\")\r\n",
    "    daily_usage = astronauts * 11\r\n",
    "    total_usage = daily_usage * days_left\r\n",
    "    total_water_left = water_left - total_usage\r\n",
    "    if total_water_left < 0:\r\n",
    "        raise RuntimeError(f\"There is not enough water for {astronauts} astronauts after {days_left} days!\")\r\n",
    "    return f\"Total water left after {days_left} days is: {total_water_left} liters\"\r\n",
    "Ahora volvemos a intentarlo para obtener un error mejor:\r\n",
    "\r\n",
    ">>> water_left(\"3\", \"200\", None)\r\n",
    "Traceback (most recent call last):\r\n",
    "  File \"<stdin>\", line 5, in water_left\r\n",
    "TypeError: unsupported operand type(s) for /: 'str' and 'int'\r\n",
    "\r\n",
    "During handling of the preceding exception, another exception occurred:\r\n",
    "\r\n",
    "Traceback (most recent call last):\r\n",
    "  File \"<stdin>\", line 1, in <module>\r\n",
    "  File \"<stdin>\", line 9, in water_left\r\n",
    "TypeError: All arguments must be of type int, but received: '3'"
   ],
   "metadata": {}
  },
  {
   "cell_type": "code",
   "execution_count": 18,
   "source": [
    "def water_left(astronauts, water_left, days_left):\r\n",
    "    for argument in [astronauts, water_left, days_left]:\r\n",
    "        try:\r\n",
    "            # If argument is an int, the following operation will work\r\n",
    "            argument / 10\r\n",
    "        except TypeError:\r\n",
    "            # TypError will be raised only if it isn't the right type \r\n",
    "            # Raise the same exception but with a better error message\r\n",
    "            raise TypeError(f\"All arguments must be of type int, but received: '{argument}'\")\r\n",
    "    daily_usage = astronauts * 11\r\n",
    "    total_usage = daily_usage * days_left\r\n",
    "    total_water_left = water_left - total_usage\r\n",
    "    if total_water_left < 0:\r\n",
    "        raise RuntimeError(f\"There is not enough water for {astronauts} astronauts after {days_left} days!\")\r\n",
    "    return f\"Total water left after {days_left} days is: {total_water_left} liters\"\r\n",
    "# Ahora volvemos a intentarlo para obtener un error mejor:\r\n",
    "\r\n",
    "water_left(\"3\", \"200\", None)"
   ],
   "outputs": [
    {
     "output_type": "error",
     "ename": "TypeError",
     "evalue": "All arguments must be of type int, but received: '3'",
     "traceback": [
      "\u001b[1;31m---------------------------------------------------------------------------\u001b[0m",
      "\u001b[1;31mTypeError\u001b[0m                                 Traceback (most recent call last)",
      "Input \u001b[1;32mIn [18]\u001b[0m, in \u001b[0;36mwater_left\u001b[1;34m(astronauts, water_left, days_left)\u001b[0m\n\u001b[0;32m      3\u001b[0m \u001b[38;5;28;01mtry\u001b[39;00m:\n\u001b[0;32m      4\u001b[0m     \u001b[38;5;66;03m# If argument is an int, the following operation will work\u001b[39;00m\n\u001b[1;32m----> 5\u001b[0m     \u001b[43margument\u001b[49m\u001b[43m \u001b[49m\u001b[38;5;241;43m/\u001b[39;49m\u001b[43m \u001b[49m\u001b[38;5;241;43m10\u001b[39;49m\n\u001b[0;32m      6\u001b[0m \u001b[38;5;28;01mexcept\u001b[39;00m \u001b[38;5;167;01mTypeError\u001b[39;00m:\n\u001b[0;32m      7\u001b[0m     \u001b[38;5;66;03m# TypError will be raised only if it isn't the right type \u001b[39;00m\n\u001b[0;32m      8\u001b[0m     \u001b[38;5;66;03m# Raise the same exception but with a better error message\u001b[39;00m\n",
      "\u001b[1;31mTypeError\u001b[0m: unsupported operand type(s) for /: 'str' and 'int'",
      "\nDuring handling of the above exception, another exception occurred:\n",
      "\u001b[1;31mTypeError\u001b[0m                                 Traceback (most recent call last)",
      "Input \u001b[1;32mIn [18]\u001b[0m, in \u001b[0;36m<module>\u001b[1;34m\u001b[0m\n\u001b[0;32m     15\u001b[0m     \u001b[38;5;28;01mreturn\u001b[39;00m \u001b[38;5;124mf\u001b[39m\u001b[38;5;124m\"\u001b[39m\u001b[38;5;124mTotal water left after \u001b[39m\u001b[38;5;132;01m{\u001b[39;00mdays_left\u001b[38;5;132;01m}\u001b[39;00m\u001b[38;5;124m days is: \u001b[39m\u001b[38;5;132;01m{\u001b[39;00mtotal_water_left\u001b[38;5;132;01m}\u001b[39;00m\u001b[38;5;124m liters\u001b[39m\u001b[38;5;124m\"\u001b[39m\n\u001b[0;32m     16\u001b[0m \u001b[38;5;66;03m# Ahora volvemos a intentarlo para obtener un error mejor:\u001b[39;00m\n\u001b[1;32m---> 18\u001b[0m \u001b[43mwater_left\u001b[49m\u001b[43m(\u001b[49m\u001b[38;5;124;43m\"\u001b[39;49m\u001b[38;5;124;43m3\u001b[39;49m\u001b[38;5;124;43m\"\u001b[39;49m\u001b[43m,\u001b[49m\u001b[43m \u001b[49m\u001b[38;5;124;43m\"\u001b[39;49m\u001b[38;5;124;43m200\u001b[39;49m\u001b[38;5;124;43m\"\u001b[39;49m\u001b[43m,\u001b[49m\u001b[43m \u001b[49m\u001b[38;5;28;43;01mNone\u001b[39;49;00m\u001b[43m)\u001b[49m\n",
      "Input \u001b[1;32mIn [18]\u001b[0m, in \u001b[0;36mwater_left\u001b[1;34m(astronauts, water_left, days_left)\u001b[0m\n\u001b[0;32m      5\u001b[0m         argument \u001b[38;5;241m/\u001b[39m \u001b[38;5;241m10\u001b[39m\n\u001b[0;32m      6\u001b[0m     \u001b[38;5;28;01mexcept\u001b[39;00m \u001b[38;5;167;01mTypeError\u001b[39;00m:\n\u001b[0;32m      7\u001b[0m         \u001b[38;5;66;03m# TypError will be raised only if it isn't the right type \u001b[39;00m\n\u001b[0;32m      8\u001b[0m         \u001b[38;5;66;03m# Raise the same exception but with a better error message\u001b[39;00m\n\u001b[1;32m----> 9\u001b[0m         \u001b[38;5;28;01mraise\u001b[39;00m \u001b[38;5;167;01mTypeError\u001b[39;00m(\u001b[38;5;124mf\u001b[39m\u001b[38;5;124m\"\u001b[39m\u001b[38;5;124mAll arguments must be of type int, but received: \u001b[39m\u001b[38;5;124m'\u001b[39m\u001b[38;5;132;01m{\u001b[39;00margument\u001b[38;5;132;01m}\u001b[39;00m\u001b[38;5;124m'\u001b[39m\u001b[38;5;124m\"\u001b[39m)\n\u001b[0;32m     10\u001b[0m daily_usage \u001b[38;5;241m=\u001b[39m astronauts \u001b[38;5;241m*\u001b[39m \u001b[38;5;241m11\u001b[39m\n\u001b[0;32m     11\u001b[0m total_usage \u001b[38;5;241m=\u001b[39m daily_usage \u001b[38;5;241m*\u001b[39m days_left\n",
      "\u001b[1;31mTypeError\u001b[0m: All arguments must be of type int, but received: '3'"
     ]
    }
   ],
   "metadata": {}
  }
 ],
 "metadata": {
  "orig_nbformat": 4,
  "language_info": {
   "name": "python",
   "version": "3.9.5",
   "mimetype": "text/x-python",
   "codemirror_mode": {
    "name": "ipython",
    "version": 3
   },
   "pygments_lexer": "ipython3",
   "nbconvert_exporter": "python",
   "file_extension": ".py"
  },
  "kernelspec": {
   "name": "python3",
   "display_name": "Python 3.9.5 64-bit ('env': venv)"
  },
  "interpreter": {
   "hash": "b7aaece06d7563a57f78cab124ff151e5f4a2e7bfbbc3e8ad424cf5ed83bed68"
  }
 },
 "nbformat": 4,
 "nbformat_minor": 2
}