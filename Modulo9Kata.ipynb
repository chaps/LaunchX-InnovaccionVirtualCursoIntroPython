{
 "cells": [
  {
   "cell_type": "markdown",
   "source": [
    "## Ejercicio: Uso de funciones en Python\r\n",
    "### Ejercicio 1: Trabajar con argumentos en funciones\r\n",
    "Los argumentos requeridos en las funciones se utilizan cuando las funciones necesitan que esos argumentos funcionen correctamente. En este ejercicio, construirás un informe de combustible que requiere información de varias ubicaciones de combustible en todo el cohete."
   ],
   "metadata": {}
  },
  {
   "cell_type": "code",
   "execution_count": 12,
   "source": [
    "# Ejercicio 1\r\n",
    "# Función para leer 3 tanques de combustible y muestre el promedio\r\n",
    "\r\n",
    "# Comienza por crear una función que necesite tres lecturas de combustible y devuelva un informe:\r\n",
    "\r\n",
    "def informe_lecturas(lectura_1, lectura_2, lectura_3):\r\n",
    "    return f\"\"\"\r\n",
    "    Lectura 1: {lectura_1}\r\n",
    "    Lectura 2: {lectura_2}\r\n",
    "    Lectura 3: {lectura_3}\r\n",
    "    \"\"\"\r\n",
    "\r\n",
    "# Ahora que hemos definido la función de informes, vamos a comprobarlo. Para esta misión, los tanques no están llenos:\r\n",
    "\r\n",
    "\r\n",
    "# Llamamos a la función que genera el reporte print(funcion(tanque1, tanque2, tanque3))\r\n",
    "print(informe_lecturas(0,0,0))\r\n",
    "\r\n",
    "    \r\n",
    "# En lugar de simplemente crear el informe, la función también está calculando el promedio. \r\n",
    "# Mejora la legibilidad extrayendo el cálculo promedio de la función en una nueva función para que el promedio se pueda hacer de forma independiente:\r\n",
    "\r\n",
    "import functools\r\n",
    "\r\n",
    "def promedio_lecturas(*lecturas):\r\n",
    "    return functools.reduce(lambda x, y: x + y, lecturas) / len(lecturas)\r\n",
    "\r\n",
    "# Función promedio\r\n",
    "print(promedio_lecturas(5,10, 15))\r\n",
    "\r\n",
    "\r\n",
    "def informe_lecturas(lectura_1, lectura_2, lectura_3):\r\n",
    "    promedio = promedio_lecturas(lectura_1, lectura_2, lectura_3)\r\n",
    "    return f\"\"\"\r\n",
    "    Lectura 1: {lectura_1}\r\n",
    "    Lectura 2: {lectura_2}\r\n",
    "    Lectura 3: {lectura_3}\r\n",
    "    Promedio: {promedio}\r\n",
    "    \"\"\"\r\n",
    "\r\n",
    "# Ahora actualiza la función de informes para llamando a la nueva función del promedio:\r\n",
    "print(informe_lecturas(5, 10, 15))\r\n",
    "# Actualiza la función\r\n",
    "\r\n",
    "\r\n"
   ],
   "outputs": [
    {
     "output_type": "stream",
     "name": "stdout",
     "text": [
      "\n",
      "    Lectura 1: 0\n",
      "    Lectura 2: 0\n",
      "    Lectura 3: 0\n",
      "    \n",
      "10.0\n",
      "\n",
      "    Lectura 1: 5\n",
      "    Lectura 2: 10\n",
      "    Lectura 3: 15\n",
      "    Promedio: 10.0\n",
      "    \n"
     ]
    }
   ],
   "metadata": {}
  },
  {
   "cell_type": "markdown",
   "source": [
    "## Ejercicio 2: Trabajo con argumentos de palabra clave\r\n",
    "### Ejercicio : Trabajar con argumentos de palabras clave en funciones\r\n",
    "En este ejercicio, construirás un informe de cohete que requiere varias piezas de información, como el tiempo hasta el destino, el combustible a la izquierda y el nombre del destino. Comienza por crear una función que creará un informe preciso de la misión:\r\n",
    "\r\n",
    "# Función con un informe preciso de la misión. Considera hora de prelanzamiento, tiempo de vuelo, destino, tanque externo y tanque interno\r\n",
    "def buid_inform(prelaunch_time, flight_time, dest, external_tank, internal_tank):\r\n",
    "    return f\"\"\"\r\n",
    "        ### INFORM OF SHIP STATUS ###\r\n",
    "        Time of prelaunch: {prelaunch_time}\r\n",
    "        Time of flight: {flight_time}\r\n",
    "        Destination: {dest}\r\n",
    "        External tank: {external_tank}\r\n",
    "        Internal tank: {internal_tank}\r\n",
    "    \"\"\"\r\n",
    "La función es problemática porque no se puede adaptar para minutos adicionales o tanques adicionales de combustible. Hazlo más flexible permitiendo cualquier número de pasos basados en el tiempo y cualquier número de tanques. En lugar de usar *args y **kwargs, aprovecha el hecho de que puedes usar cualquier nombre que desees. Asegurate que la función sea más legible mediante el uso de nombres de variables que están asociados con las entradas, como *minutes y **fuel_reservoirs:\r\n",
    "\r\n"
   ],
   "metadata": {}
  },
  {
   "cell_type": "code",
   "execution_count": 15,
   "source": [
    "## Ejercicio 2:\r\n",
    "# Función con un informe preciso de la misión. Considera hora de prelanzamiento, tiempo de vuelo, destino, tanque externo y tanque interno\r\n",
    "\r\n",
    "# Función con un informe preciso de la misión. Considera hora de prelanzamiento, tiempo de vuelo, destino, tanque externo y tanque interno\r\n",
    "def buid_inform(prelaunch_time, flight_time, dest, external_tank, internal_tank):\r\n",
    "    return f\"\"\"\r\n",
    "        ### INFORM OF SHIP STATUS ###\r\n",
    "        Time of prelaunch: {prelaunch_time}\r\n",
    "        Time of flight: {flight_time}\r\n",
    "        Destination: {dest}\r\n",
    "        External tank: {external_tank}\r\n",
    "        Internal tank: {internal_tank}\r\n",
    "    \"\"\"\r\n",
    "\r\n",
    "\r\n",
    "# Escribe tu nueva función de reporte considerando lo anterior\r\n",
    "def build_inform(dest, *minutes, **fuel_positions):\r\n",
    "    return f\"\"\"\r\n",
    "        ### INFORM OF SHIP STATUS ###\r\n",
    "        Elapsed time of mission: {sum(minutes)}\r\n",
    "        DesDestination: {dest}\r\n",
    "        Fuel resevoirs: {sum(fuel_positions.values())}\r\n",
    "    \"\"\"\r\n",
    "# Debido a que el combustible que queda en los tanques es específico de cada tanque, actualiza la función para usar el nombre de cada tanque en el informe:\r\n",
    "\r\n",
    "# Escribe tu nueva función\r\n",
    "def build_inform(dest, *minutes, **fuel_positions):\r\n",
    "    report = f\"\"\"\r\n",
    "        ### INFORM OF SHIP STATUS ###\r\n",
    "        Elapsed time of mission: {sum(minutes)}\r\n",
    "        DesDestination: {dest}\r\n",
    "        Fuel: {sum(fuel_positions.values())}   \r\n",
    "    \"\"\"\r\n",
    "    tanks = \"\"\"\"\"\"\r\n",
    "    for name, content in fuel_positions.items():\r\n",
    "        tanks += f\"\"\"\r\n",
    "            galon {name} : --> {content} galones restantes\r\n",
    "            \"\"\"\r\n",
    "    return report + tanks\r\n",
    "\r\n",
    "print(build_inform(\"Mars\", 3600, 250000, 38000, engines=200000, backup=100000))\r\n",
    "\r\n"
   ],
   "outputs": [
    {
     "output_type": "stream",
     "name": "stdout",
     "text": [
      "\n",
      "        ### INFORM OF SHIP STATUS ###\n",
      "        Elapsed time of mission: 291600\n",
      "        DesDestination: Mars\n",
      "        Fuel: 300000   \n",
      "    \n",
      "            galon engines : --> 200000 galones restantes\n",
      "            \n",
      "            galon backup : --> 100000 galones restantes\n",
      "            \n"
     ]
    }
   ],
   "metadata": {}
  }
 ],
 "metadata": {
  "orig_nbformat": 4,
  "language_info": {
   "name": "python",
   "version": "3.9.5",
   "mimetype": "text/x-python",
   "codemirror_mode": {
    "name": "ipython",
    "version": 3
   },
   "pygments_lexer": "ipython3",
   "nbconvert_exporter": "python",
   "file_extension": ".py"
  },
  "kernelspec": {
   "name": "python3",
   "display_name": "Python 3.9.5 64-bit ('env': venv)"
  },
  "interpreter": {
   "hash": "b7aaece06d7563a57f78cab124ff151e5f4a2e7bfbbc3e8ad424cf5ed83bed68"
  }
 },
 "nbformat": 4,
 "nbformat_minor": 2
}