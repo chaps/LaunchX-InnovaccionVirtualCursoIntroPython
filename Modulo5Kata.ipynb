{
 "cells": [
  {
   "cell_type": "markdown",
   "source": [
    "Ejercicio1 - Utilizar operadores aritméticos\r\n",
    "Python proporciona operadores aritméticos comunes para que puedas realizar operaciones matemáticas en tu código. Estos incluyen las cuatro operaciones principales de suma, resta, multiplicación y división.\r\n",
    "\r\n",
    "Exploremos cómo podemos crear un programa que pueda calcular la distancia entre dos planetas. Comenzaremos usando dos distancias de planetas: Tierra (149.597.870 km) y Júpiter (778.547.200 km)."
   ],
   "metadata": {}
  },
  {
   "cell_type": "code",
   "execution_count": 3,
   "source": [
    "# Crear variables para almacenar las dos distancias\r\n",
    "#Realizar la operación\r\n",
    "#Con los valores obtenidos, es el momento de añadir el código para realizar la operación. \r\n",
    "\r\n",
    "# Calcular la distancia entre planetas\r\n",
    "#Prueba tu proyecto\r\n",
    "#Con el código creado, ejecuta el notebook para obtener el resultado. Deberías recibir lo siguiente:\r\n",
    "distancia_tierra = 149597870 # km\r\n",
    "distancia_jupiter = 778547200 # km\r\n",
    "#628949330\r\n",
    "#390577534\r\n",
    "# Restarás el primer planeta del segundo para determinar la distancia en kilómetros. \r\n",
    "# A continuación, puedes convertir la distancia del kilómetro en millas multiplicándola por 0.621.\r\n",
    "distancia_planetas = distancia_jupiter - distancia_tierra\r\n",
    "print(distancia_planetas)\r\n",
    "print(distancia_planetas *  0.621)\r\n"
   ],
   "outputs": [
    {
     "output_type": "stream",
     "name": "stdout",
     "text": [
      "-628949330\n",
      "628949330\n",
      "390577533.93\n"
     ]
    }
   ],
   "metadata": {}
  },
  {
   "cell_type": "markdown",
   "source": [
    "Ejercicio 2: convierte cadenas en números y usa valores absolutos\r\n",
    "Crear una aplicación para trabajar con números y entrada de usuario\r\n",
    "Con frecuencia, deberás convertir los valores de cadena en números para realizar correctamente diferentes operaciones o determinar el valor absoluto de un número.\r\n",
    "\r\n",
    "Para crear nuestra aplicación, queremos leer la distancia del sol para dos planetas, y luego mostrar la distancia entre los planetas. Haremos esto usando input para leer los valores, int para convertir a entero y luego abs para convertir el resultado en su valor absoluto.\r\n",
    "\r\n",
    "Lee los valores\r\n",
    "Usando input, agrega el código para leer la distancia del sol para cada planeta, considerando 2 planetas.\r\n",
    "\r\n",
    "# Almacenar las entradas del usuario\r\n",
    "#Pista: variable = input(\"¿Cuál es tu nombre?\")\r\n",
    "Convertir a número\r\n",
    "Debido a que input devuelve valores de cadena, necesitamos convertirlos en números. Para nuestro ejemplo, usaremos int\r\n",
    "\r\n",
    "# Convierte las cadenas de ambos planetas a números enteros\r\n",
    "Realizar el cálculo y convertir a valor absoluto\r\n",
    "Con los valores almacenados como números, ahora puedes agregar el código para realizar el cálculo, restando el primer planeta del segundo. Debido a que el segundo planeta podría ser un número mayor, usarás abs para convertirlo a un valor absoluto. También agregarás el código para mostrar el resultado en millas multiplicando la distancia del kilómetro por 0.621\r\n",
    "\r\n",
    "# Realizar el cálculo y determinar el valor absoluto\r\n",
    "\r\n",
    "\r\n",
    "# Convertir de KM a Millas\r\n",
    "Prueba tu aplicación\r\n",
    "Para probar el proyecto, ejecuta tu notebook. En la parte superior de vscode surgirá un cuadro de diálogo para que proporciones las distancias. Puede utilizar los datos de la tabla siguiente:\r\n",
    "\r\n"
   ],
   "metadata": {}
  },
  {
   "cell_type": "code",
   "execution_count": null,
   "source": [
    "\r\n",
    "# Almacenar las entradas del usuario\r\n",
    "#Pista: variable = input(\"¿Cuál es tu nombre?\")\r\n",
    "# Convierte las cadenas de ambos planetas a números enteros\r\n",
    "\r\n",
    "distancia_planeta_1 = int(input(\"¿Cuál es la distancia entre el sol y el primer planeta ?\"))\r\n",
    "distancia_planeta_2 = int(input(\"¿Cuál es la distancia entre el sol y el segundo planeta ?\"))\r\n",
    "\r\n",
    "km_to_miles =  0.621 # \r\n",
    "# Realizar el cálculo y convertir a valor absoluto\r\n",
    "# Con los valores almacenados como números, ahora puedes agregar el código para realizar el cálculo, restando el primer planeta del segundo. Debido a que el segundo planeta podría ser un número mayor, usarás abs para convertirlo a un valor absoluto. También agregarás el código para mostrar el resultado en millas multiplicando la distancia del kilómetro por 0.621\r\n",
    "\r\n",
    "# Realizar el cálculo y determinar el valor absoluto\r\n",
    "distancia = distancia_planeta_2 - distancia_planeta_1\r\n",
    "# Convertir de KM a Millas\r\n",
    "distancia_millas = distancia * km_to_miles \r\n",
    "print(distancia_millas)\r\n",
    "\r\n"
   ],
   "outputs": [],
   "metadata": {}
  }
 ],
 "metadata": {
  "orig_nbformat": 4,
  "language_info": {
   "name": "python",
   "version": "3.9.5",
   "mimetype": "text/x-python",
   "codemirror_mode": {
    "name": "ipython",
    "version": 3
   },
   "pygments_lexer": "ipython3",
   "nbconvert_exporter": "python",
   "file_extension": ".py"
  },
  "kernelspec": {
   "name": "python3",
   "display_name": "Python 3.9.5 64-bit ('env': venv)"
  },
  "interpreter": {
   "hash": "b7aaece06d7563a57f78cab124ff151e5f4a2e7bfbbc3e8ad424cf5ed83bed68"
  }
 },
 "nbformat": 4,
 "nbformat_minor": 2
}