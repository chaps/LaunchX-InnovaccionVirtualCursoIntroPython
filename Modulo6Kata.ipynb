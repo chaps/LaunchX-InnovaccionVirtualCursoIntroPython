{
 "cells": [
  {
   "cell_type": "markdown",
   "source": [
    "# Ejercicio1: Crear y usar listas de Python\r\n",
    "## Ejercicio: Usar listas para almacenar nombres de planetas"
   ],
   "metadata": {}
  },
  {
   "cell_type": "code",
   "execution_count": 3,
   "source": [
    "\r\n",
    "# Muestra los planetas más lejanos al sol\r\n",
    "# Creamos la lista planets y la mostramos\r\n",
    "\r\n",
    "planetas = ['Mercurio', 'Venus', 'Tierra', 'Marte', 'Jupiter', 'Saturno', 'Urano', 'Neptuno']\r\n",
    "# Agrega a Plutón a la lista que creaste. Luego muestra tanto el número de planetas como el último planeta de la lista.\r\n",
    "\r\n",
    "planetas.append('Pluton')\r\n",
    "print('Hay {} planetas'.format(len(planetas)))\r\n",
    "\r\n",
    "print('{} Es el ultimo planeta'.format(planetas[-1]))\r\n"
   ],
   "outputs": [
    {
     "output_type": "stream",
     "name": "stdout",
     "text": [
      "Hay 9 planetas\n",
      "Pluton Es el ultimo planeta\n"
     ]
    }
   ],
   "metadata": {}
  },
  {
   "cell_type": "markdown",
   "source": [
    "## Ejercicio 2: Trabajando con datos de una lista\r\n",
    "### Usar slices para recuperar partes de una lista\r\n",
    "Es posible que debas trabajar con diferentes secciones de una lista. En nuestro ejemplo, queremos mostrar planetas más cerca y más lejos del sol de un planeta que el usuario ingresa por teclado.\r\n",
    "\r\n",
    "Comienza agregando el código para crear una lista con los planetas.\r\n",
    "\r\n",
    "# Solicitamos el nombre de un planeta *Pista:  input()*\r\n",
    "Encuentra el planeta en la lista\r\n",
    "Para determinar qué planetas están más cerca que el que ingresó el usuario, debes encontrar dónde está el planeta en la lista. Puedes utilizar index para realizar esta operación. Agrega el código para encontrar el índice del planeta.\r\n",
    "\r\n",
    "# Busca el planeta en la lista\r\n",
    "Mostrar planetas más cercanos al sol que el que el usuario ingresó\r\n",
    "Con el índice determinado, ahora puedes agregar el código para mostrar los planetas más cercanos al sol.\r\n",
    "\r\n",
    "# Muestra los planetas más cercanos al sol\r\n",
    "Mostrar planetas más alejados del sol que el que el usuario ingresó\r\n",
    "Puedes usar el mismo índice para mostrar planetas más alejados del sol. Sin embargo, recuerda que el índice inicial se incluye cuando usas un slice. Como resultado, tendrás que agregar 1 al valor. Agrega el código para mostrar los planetas más alejados del sol.\r\n",
    "\r\n"
   ],
   "metadata": {}
  },
  {
   "cell_type": "code",
   "execution_count": 7,
   "source": [
    "planetas = ['Mercurio', 'Venus', 'Tierra', 'Marte', 'Jupiter', 'Saturno', 'Urano', 'Neptuno']\r\n",
    "\r\n",
    "# Solicitamos el nombre de un planeta\r\n",
    "planeta = input('Ingresa el nombre de un planeta (debe comenzar con Mayuscula)')\r\n",
    "# Busca el planeta en la lista\r\n",
    "\r\n",
    "# Busca el planeta en la lista\r\n",
    "indice_planeta = planetas.index(planeta)\r\n",
    "\r\n",
    "# Mostrar planetas más cercanos al sol que el que el usuario ingresó\r\n",
    "print('Planetas mas cercanos al sol que {} '.format(planeta))\r\n",
    "print(planetas[0:indice_planeta])\r\n",
    "\r\n",
    "# Muestra los planetas más lejanos al sol\r\n",
    "\r\n",
    "print('Planetas mas lejanos al sol que: {}'.format(planeta))\r\n",
    "print(planetas[indice_planeta + 1:])\r\n"
   ],
   "outputs": [
    {
     "output_type": "stream",
     "name": "stdout",
     "text": [
      "Planetas mas cercanos al sol que Marte \n",
      "['Mercurio', 'Venus', 'Tierra']\n",
      "Planetas mas lejanos al sol que\n",
      "['Jupiter', 'Saturno', 'Urano', 'Neptuno']\n"
     ]
    }
   ],
   "metadata": {}
  }
 ],
 "metadata": {
  "orig_nbformat": 4,
  "language_info": {
   "name": "python",
   "version": "3.9.5",
   "mimetype": "text/x-python",
   "codemirror_mode": {
    "name": "ipython",
    "version": 3
   },
   "pygments_lexer": "ipython3",
   "nbconvert_exporter": "python",
   "file_extension": ".py"
  },
  "kernelspec": {
   "name": "python3",
   "display_name": "Python 3.9.5 64-bit ('env': venv)"
  },
  "interpreter": {
   "hash": "b7aaece06d7563a57f78cab124ff151e5f4a2e7bfbbc3e8ad424cf5ed83bed68"
  }
 },
 "nbformat": 4,
 "nbformat_minor": 2
}