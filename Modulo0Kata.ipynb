{
 "cells": [
  {
   "cell_type": "markdown",
   "source": [
    "# Manual de la Nave\r\n",
    "\r\n"
   ],
   "metadata": {}
  },
  {
   "cell_type": "code",
   "execution_count": 2,
   "source": [
    "import ipywidgets as widgets\r\n",
    "\r\n",
    "ignition = widgets.ToggleButton(\r\n",
    "    value=False,\r\n",
    "    description='Iniciar Launch',\r\n",
    "    button_style='success',\r\n",
    "    tooltip='Engage your Launch',\r\n",
    "    icon='rocket'\r\n",
    ")\r\n",
    "\r\n",
    "output = widgets.Output()\r\n",
    "\r\n",
    "display(ignition, output)\r\n",
    "\r\n",
    "def on_value_change(change):\r\n",
    "    with output:\r\n",
    "        if change['new'] == True:\r\n",
    "            print(\"Nave Iniciada!\")\r\n",
    "        else:   \r\n",
    "            print(\"Nave Detenida\")\r\n",
    "\r\n",
    "ignition.observe(on_value_change, names='value')"
   ],
   "outputs": [
    {
     "output_type": "display_data",
     "data": {
      "application/vnd.jupyter.widget-view+json": {
       "version_major": 2,
       "version_minor": 0,
       "model_id": "e5363987283049a8b489bd66912ae184"
      },
      "text/plain": [
       "ToggleButton(value=False, button_style='success', description='Iniciar Launch', icon='rocket', tooltip='Engage…"
      ]
     },
     "metadata": {}
    },
    {
     "output_type": "display_data",
     "data": {
      "application/vnd.jupyter.widget-view+json": {
       "version_major": 2,
       "version_minor": 0,
       "model_id": "f3744969583d4a7a8f29eb3d4b49c42d"
      },
      "text/plain": [
       "Output()"
      ]
     },
     "metadata": {}
    }
   ],
   "metadata": {}
  },
  {
   "cell_type": "code",
   "execution_count": 3,
   "source": [
    "!pip install matplotlib\r\n",
    "!pip install numpy"
   ],
   "outputs": [
    {
     "output_type": "stream",
     "name": "stdout",
     "text": [
      "Requirement already satisfied: matplotlib in c:\\users\\pc\\coding\\launchx-innovaccionvirtualcursointropython\\env\\lib\\site-packages (3.5.1)\n",
      "Requirement already satisfied: pyparsing>=2.2.1 in c:\\users\\pc\\coding\\launchx-innovaccionvirtualcursointropython\\env\\lib\\site-packages (from matplotlib) (3.0.7)\n",
      "Requirement already satisfied: cycler>=0.10 in c:\\users\\pc\\coding\\launchx-innovaccionvirtualcursointropython\\env\\lib\\site-packages (from matplotlib) (0.11.0)\n",
      "Requirement already satisfied: pillow>=6.2.0 in c:\\users\\pc\\coding\\launchx-innovaccionvirtualcursointropython\\env\\lib\\site-packages (from matplotlib) (9.0.1)\n",
      "Requirement already satisfied: python-dateutil>=2.7 in c:\\users\\pc\\coding\\launchx-innovaccionvirtualcursointropython\\env\\lib\\site-packages (from matplotlib) (2.8.2)\n",
      "Requirement already satisfied: packaging>=20.0 in c:\\users\\pc\\coding\\launchx-innovaccionvirtualcursointropython\\env\\lib\\site-packages (from matplotlib) (21.3)\n",
      "Requirement already satisfied: kiwisolver>=1.0.1 in c:\\users\\pc\\coding\\launchx-innovaccionvirtualcursointropython\\env\\lib\\site-packages (from matplotlib) (1.3.2)\n",
      "Requirement already satisfied: numpy>=1.17 in c:\\users\\pc\\coding\\launchx-innovaccionvirtualcursointropython\\env\\lib\\site-packages (from matplotlib) (1.22.2)\n",
      "Requirement already satisfied: fonttools>=4.22.0 in c:\\users\\pc\\coding\\launchx-innovaccionvirtualcursointropython\\env\\lib\\site-packages (from matplotlib) (4.29.1)\n",
      "Requirement already satisfied: six>=1.5 in c:\\users\\pc\\coding\\launchx-innovaccionvirtualcursointropython\\env\\lib\\site-packages (from python-dateutil>=2.7->matplotlib) (1.16.0)\n"
     ]
    },
    {
     "output_type": "stream",
     "name": "stderr",
     "text": [
      "WARNING: You are using pip version 21.1.1; however, version 22.0.3 is available.\n",
      "You should consider upgrading via the 'c:\\users\\pc\\coding\\launchx-innovaccionvirtualcursointropython\\env\\scripts\\python.exe -m pip install --upgrade pip' command.\n"
     ]
    },
    {
     "output_type": "stream",
     "name": "stdout",
     "text": [
      "Requirement already satisfied: numpy in c:\\users\\pc\\coding\\launchx-innovaccionvirtualcursointropython\\env\\lib\\site-packages (1.22.2)\n"
     ]
    },
    {
     "output_type": "stream",
     "name": "stderr",
     "text": [
      "WARNING: You are using pip version 21.1.1; however, version 22.0.3 is available.\n",
      "You should consider upgrading via the 'c:\\users\\pc\\coding\\launchx-innovaccionvirtualcursointropython\\env\\scripts\\python.exe -m pip install --upgrade pip' command.\n"
     ]
    }
   ],
   "metadata": {}
  },
  {
   "cell_type": "markdown",
   "source": [
    "## Niveles de Oxigeno\r\n",
    "Muestra diez minutos de niveles de oxigeno en tu nave."
   ],
   "metadata": {}
  },
  {
   "cell_type": "code",
   "execution_count": 4,
   "source": [
    "import numpy as np\r\n",
    "import matplotlib.pyplot as plt\r\n",
    "data = np.random.default_rng(12345)\r\n",
    "oxy_nums = data.integers(low=0, high=10, size=10)\r\n",
    "\r\n",
    "plt.bar(range(len(oxy_nums)), oxy_nums)\r\n",
    "plt.show()"
   ],
   "outputs": [
    {
     "output_type": "display_data",
     "data": {
      "image/png": "[encoded data removed]",
      "text/plain": [
       "<Figure size 432x288 with 1 Axes>"
      ]
     },
     "metadata": {
      "needs_background": "light"
     }
    }
   ],
   "metadata": {}
  },
  {
   "cell_type": "markdown",
   "source": [
    "## Velocidad de la nave\r\n",
    "\r\n",
    "Muestra los segundos necesarios para pasar de 0 a 11200 metros por segundo, dada la aceleración de la nave en metros por segundo."
   ],
   "metadata": {}
  },
  {
   "cell_type": "code",
   "execution_count": 5,
   "source": [
    "endVelocity = 11200\r\n",
    "startVelocity = 0\r\n",
    "acceleration = 9.8\r\n",
    "\r\n",
    "time = (endVelocity - startVelocity) / acceleration\r\n",
    "print(\"Tiempo para alcanzar la velocidad deseada = \", time)"
   ],
   "outputs": [
    {
     "output_type": "stream",
     "name": "stdout",
     "text": [
      "Tiempo para alcanzar la velocidad deseada =  1142.8571428571427\n"
     ]
    }
   ],
   "metadata": {}
  }
 ],
 "metadata": {
  "orig_nbformat": 4,
  "language_info": {
   "name": "python",
   "version": "3.9.5",
   "mimetype": "text/x-python",
   "codemirror_mode": {
    "name": "ipython",
    "version": 3
   },
   "pygments_lexer": "ipython3",
   "nbconvert_exporter": "python",
   "file_extension": ".py"
  },
  "kernelspec": {
   "name": "python3",
   "display_name": "Python 3.9.5 64-bit ('env': venv)"
  },
  "interpreter": {
   "hash": "b7aaece06d7563a57f78cab124ff151e5f4a2e7bfbbc3e8ad424cf5ed83bed68"
  }
 },
 "nbformat": 4,
 "nbformat_minor": 2
}