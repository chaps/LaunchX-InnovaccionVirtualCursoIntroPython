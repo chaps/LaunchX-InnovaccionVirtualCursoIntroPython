{
 "cells": [
  {
   "cell_type": "markdown",
   "source": [
    "# Ejercicio - Escribir declaraciones if, else, y elif\r\n",
    "Un asteroide se acerca, y viaja a una velocidad de 49 km/s.\r\n",
    "\r\n",
    "Si un asteroide entra en la atmósfera de la Tierra a una velocidad mayor o igual a 20 km/s, a veces produce un rayo de luz que se puede ver desde la Tierra. Escribe la lógica condicional que usa declaraciones if, else, y elif para alertar a las personas de todo el mundo que deben buscar un asteroide en el cielo. ¡Hay uno que se dirige a la tierra ahora a una velocidad de 19 km/s!"
   ],
   "metadata": {}
  },
  {
   "cell_type": "code",
   "execution_count": 21,
   "source": [
    "# Añadir el código necesario para crear una variable que guarde la velocidad del asteroide.\r\n",
    "asteroidSpeed = 49\r\n",
    "warningSpeed = 25 #km/s\r\n",
    "\r\n",
    "def needsSpeedWarning(asteroidSpeed, warningSpeed=25):\r\n",
    "    return asteroidSpeed > warningSpeed\r\n",
    "\r\n",
    "\r\n",
    "# Escribe una expresión de prueba para calcular si necesita una advertencia.\r\n",
    "# Agregue las instrucciones que se ejecutarán si la expresión de prueba es true o false.\r\n",
    "if needsSpeedWarning(asteroidSpeed, warningSpeed=warningSpeed):\r\n",
    "    print(f\"Alerta, un asteroide con una velocidad de {asteroidSpeed} km/s supera la velocidad de alerta {warningSpeed} km/s\")\r\n",
    "else:\r\n",
    "    print(\"No hay alerta, el asteroide no supera la velocidad de alerta.\")\r\n",
    "    \r\n",
    "\r\n"
   ],
   "outputs": [
    {
     "output_type": "stream",
     "name": "stdout",
     "text": [
      "Alerta, un asteroide con una velocidad de 49 km/s supera la velocidad de alerta 25 km/s\n"
     ]
    }
   ],
   "metadata": {}
  },
  {
   "cell_type": "markdown",
   "source": [
    "Si un asteroide entra en la atmósfera de la Tierra a una velocidad mayor o igual a 20 km/s, a veces produce un rayo de luz que se puede ver desde la Tierra. \r\n",
    "Escribe la lógica condicional que usa declaraciones if, else, y elif para alertar a las personas de todo el mundo que deben buscar un asteroide en el cielo. \r\n",
    "¡Hay uno que se dirige a la tierra ahora a una velocidad de 19 km/s!"
   ],
   "metadata": {}
  },
  {
   "cell_type": "code",
   "execution_count": 22,
   "source": [
    "# Agrega el código para crear una variable para un asteroide que viaja a 19 km/s\r\n",
    "asteroidSpeed = 19\r\n",
    "emitsLightRequiredSpeed = 20 #km/s\r\n",
    "\r\n",
    "def asteroidSpeedEmitsLight(asteroidSpeed, emitsLightRequiredSpeed=20):\r\n",
    "    return asteroidSpeed >= emitsLightRequiredSpeed\r\n",
    "\r\n",
    "\r\n",
    "# Escribe una expresión de prueba para calcular si necesita una advertencia.\r\n",
    "# Agregue las instrucciones que se ejecutarán si la expresión de prueba es true o false.\r\n",
    "if asteroidSpeedEmitsLight(asteroidSpeed, emitsLightRequiredSpeed=emitsLightRequiredSpeed):\r\n",
    "    print(f\"Un asteroide con una velocidad de {asteroidSpeed} km/s superior a {emitsLightRequiredSpeed} km/s esta emitiendo un rayo de luz\")\r\n",
    "else:\r\n",
    "    print(\"No hay rayos de luz emitidos por el asteroide\")\r\n",
    "\r\n"
   ],
   "outputs": [
    {
     "output_type": "stream",
     "name": "stdout",
     "text": [
      "No hay rayos de luz emitidos por el asteroide\n"
     ]
    }
   ],
   "metadata": {}
  },
  {
   "cell_type": "markdown",
   "source": [
    "# Ejercicio: Uso de operadores and y or\r\n",
    "\r\n",
    "Si una pieza de un asteroide que es más grande que 25 metros pero más pequeña que 1000 metros golpeara la Tierra, causaría mucho daño.\r\n",
    "La velocidad del asteroide varía en función de lo cerca que esté del sol, y cualquier velocidad superior a 25 kilómetros por segundo (km/s) merece una advertencia.\r\n",
    "Si un asteroide entra en la atmósfera de la Tierra a una velocidad mayor o igual a 20 km/s, a veces produce un rayo de luz que se puede ver desde la Tierra.\r\n",
    "\r\n",
    "Usando toda esta información, escribe un programa que emita la advertencia o información correcta a la gente de la Tierra, según la velocidad y el tamaño de un asteroide.\r\n",
    "Utiliza instrucciones if, else, y elif, así como los operadores and y or."
   ],
   "metadata": {}
  },
  {
   "cell_type": "code",
   "execution_count": 23,
   "source": [
    "# Agrega el código para crear nuevas variables para la velocidad y el tamaño del asteroide\r\n",
    "minAsteroidSize = 25 #m\r\n",
    "maxAsteroidSize = 1000 #m\r\n",
    "warningSpeed = 25 #km/s\r\n",
    "emitsLightRequiredSpeed = 20\r\n",
    "\r\n",
    "def needsSpeedWarning(asteroidSpeed, warningSpeed=25):\r\n",
    "    return asteroidSpeed > warningSpeed\r\n",
    "\r\n",
    "def needsSizeWarning(asteroidSize, minAsteroidSize=25, maxAsteroidSize=1000):\r\n",
    "    return asteroidSize > minAsteroidSize and asteroidSize < maxAsteroidSize\r\n",
    "\r\n",
    "def asteroidSpeedEmitsLight(asteroidSpeed, emitsLightRequiredSpeed=20):\r\n",
    "    return asteroidSpeed >= emitsLightRequiredSpeed\r\n",
    "\r\n",
    "\r\n",
    "def showWarnings(asteroidSize, asteroidSpeed):\r\n",
    "    sizeWarning = needsSizeWarning(asteroidSize)\r\n",
    "    lightWarning = asteroidSpeedEmitsLight(asteroidSpeed)\r\n",
    "    speedWarning = needsSpeedWarning(asteroidSpeed)\r\n",
    "    print(f\"nuevo asteroide tamano: {asteroidSize}m velocidad: {asteroidSpeed}km/s\")\r\n",
    "    if sizeWarning:\r\n",
    "        print(f'¡Alerta, Un asteroide muy peligroso con un tamano de {asteroidSize} m viene hacia la Tierra!')\r\n",
    "    if lightWarning:\r\n",
    "        print(f\"Un asteroide con una velocidad de {asteroidSpeed} km/s superior o igual a {emitsLightRequiredSpeed} km/s esta emitiendo un rayo de luz\")\r\n",
    "    if speedWarning:\r\n",
    "        print(f\"Alerta, un asteroide con una velocidad de {asteroidSpeed} km/s supera la velocidad de alerta {warningSpeed} km/s\")\r\n",
    "    if not (sizeWarning or lightWarning or speedWarning):\r\n",
    "        print('Nada que ver aquí :)')\r\n",
    "    print(\"____\")\r\n",
    "\r\n",
    "\r\n",
    "# Para probar el código, prueba con varias velocidades y tamaños\r\n",
    "# Escribe varias expresiones de prueba o combinaciones de expresiones de prueba para determinar qué mensaje se debe enviar a Tierra.\r\n",
    "showWarnings(asteroidSize=19, asteroidSpeed=20)\r\n",
    "showWarnings(asteroidSize=25, asteroidSpeed=26)\r\n",
    "showWarnings(asteroidSize=26, asteroidSpeed=20)\r\n",
    "\r\n"
   ],
   "outputs": [
    {
     "output_type": "stream",
     "name": "stdout",
     "text": [
      "nuevo asteroide tamano: 19m velocidad: 20km/s\n",
      "Un asteroide con una velocidad de 20 km/s superior o igual a 20 km/s esta emitiendo un rayo de luz\n",
      "____\n",
      "nuevo asteroide tamano: 25m velocidad: 26km/s\n",
      "Un asteroide con una velocidad de 26 km/s superior o igual a 20 km/s esta emitiendo un rayo de luz\n",
      "Alerta, un asteroide con una velocidad de 26 km/s supera la velocidad de alerta 25 km/s\n",
      "____\n",
      "nuevo asteroide tamano: 26m velocidad: 20km/s\n",
      "¡Alerta, Un asteroide muy peligroso con un tamano de 26 m viene hacia la Tierra!\n",
      "Un asteroide con una velocidad de 20 km/s superior o igual a 20 km/s esta emitiendo un rayo de luz\n",
      "____\n"
     ]
    }
   ],
   "metadata": {}
  }
 ],
 "metadata": {
  "orig_nbformat": 4,
  "language_info": {
   "name": "python",
   "version": "3.9.5",
   "mimetype": "text/x-python",
   "codemirror_mode": {
    "name": "ipython",
    "version": 3
   },
   "pygments_lexer": "ipython3",
   "nbconvert_exporter": "python",
   "file_extension": ".py"
  },
  "kernelspec": {
   "name": "python3",
   "display_name": "Python 3.9.5 64-bit ('env': venv)"
  },
  "interpreter": {
   "hash": "b7aaece06d7563a57f78cab124ff151e5f4a2e7bfbbc3e8ad424cf5ed83bed68"
  }
 },
 "nbformat": 4,
 "nbformat_minor": 2
}