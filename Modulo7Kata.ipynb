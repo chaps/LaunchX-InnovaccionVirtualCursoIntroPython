{
 "cells": [
  {
   "cell_type": "markdown",
   "source": [
    "# Ejercicio 1: Creación de un bucle \"while\"\r\n",
    "## Ejercicio 1: Uso de ciclos while en Python\r\n",
    "En Python, los ciclos while te permiten ejecutar código un número desconocido de veces. Los ciclos examinan una condición booleana y, siempre que la condición sea verdadera, se ejecutará el código dentro del ciclo. Esto es muy útil para situaciones como solicitar valores a un usuario.\r\n",
    "\r\n",
    "En este ejercicio, estás creando una aplicación que solicita a un usuario que ingrese una lista de planetas. En un ejercicio posterior, agregarás código que muestre la lista. Por ahora, crearás solo el código que solicita al usuario la lista de planetas.\r\n",
    "\r\n",
    "\r\n",
    "Comienza agregando dos variables, una para la entrada del usuario, con el nombre new_planet, y otra variable para la lista de planetas, denominada planets.\r\n",
    "\r\n",
    "# Declara dos variables\r\n",
    "new_planet = \"\"\r\n",
    "planets = []\r\n",
    "Crea un ciclo while\r\n",
    "Comenzando con las variables que acabas de crear, crearás un ciclo while. El ciclo while se ejecutará mientras el new_planet no sea igual a la palabra 'done'.\r\n",
    "\r\n",
    "Dentro del ciclo, comprobarás si la variable new_planet contiene un valor, que debería ser el nombre de un planeta. Esta es una forma rápida de ver si el usuario ha introducido un valor. Si lo han hecho, tu código agregará (append) ese valor a la variable planets.\r\n",
    "\r\n",
    "Finalmente, usarás input para solicitar al usuario que ingrese un nuevo nombre de planeta o que escriba done si ha terminado de ingresar nombres de planeta. Almacenará el valor de input en la variable new_planet.\r\n",
    "\r\n"
   ],
   "metadata": {}
  },
  {
   "cell_type": "code",
   "execution_count": 4,
   "source": [
    "\r\n",
    "# Ejercicio 1\r\n",
    "\r\n",
    "nuevo_planeta = ''\r\n",
    "planetas = []\r\n",
    "\r\n",
    "# Escribe el ciclo while solicitado\r\n",
    "nuevo_planeta = input('Ingresa un nuevo planeta: ')\r\n",
    "while nuevo_planeta.lower() != 'done':\r\n",
    "    if nuevo_planeta:\r\n",
    "        planetas.append(nuevo_planeta)\r\n",
    "    nuevo_planeta = input('Ingresa un nuevo planeta: ')\r\n"
   ],
   "outputs": [],
   "metadata": {}
  },
  {
   "cell_type": "markdown",
   "source": [
    "\r\n",
    "## Ejercicio 2: Creación de un ciclo \"for\"\r\n",
    "Ejercicio: - Ciclo para una lista\r\n",
    "\r\n",
    "En este ejercicio, completarás la aplicación escribiendo código que muestre los nombres de esos planetas.\r\n",
    "\r\n",
    "Mostrar la lista de los planetas\r\n",
    "La variable planets almacena los nombres de planeta que ha introducido un usuario. Ahora usarás un ciclo para mostrar esas entradas.\r\n",
    "\r\n",
    "Crea un ciclo for para iterar sobre la lista planets. Puedes usar como nombre de la variable planet para cada planeta. Dentro del ciclo for, recuerda utilizar print para mostrar cada planet.\r\n",
    "\r\n",
    "# Escribe tu ciclo for para iterar en una lista de planetas\r\n",
    "\r\n",
    "\r\n"
   ],
   "metadata": {}
  },
  {
   "cell_type": "code",
   "execution_count": 5,
   "source": [
    "\r\n",
    "# Ejercicio 2\r\n",
    "# Escribe tu ciclo for para iterar en una lista de planetas\r\n",
    "\r\n",
    "for n, i in enumerate(planetas):\r\n",
    "    print(f\"Planeta {n+1}: {i}\")\r\n",
    "\r\n"
   ],
   "outputs": [
    {
     "output_type": "stream",
     "name": "stdout",
     "text": [
      "Planeta 1: Mercurio\n",
      "Planeta 2: Venus\n"
     ]
    }
   ],
   "metadata": {}
  }
 ],
 "metadata": {
  "orig_nbformat": 4,
  "language_info": {
   "name": "python",
   "version": "3.9.5",
   "mimetype": "text/x-python",
   "codemirror_mode": {
    "name": "ipython",
    "version": 3
   },
   "pygments_lexer": "ipython3",
   "nbconvert_exporter": "python",
   "file_extension": ".py"
  },
  "kernelspec": {
   "name": "python3",
   "display_name": "Python 3.9.5 64-bit ('env': venv)"
  },
  "interpreter": {
   "hash": "b7aaece06d7563a57f78cab124ff151e5f4a2e7bfbbc3e8ad424cf5ed83bed68"
  }
 },
 "nbformat": 4,
 "nbformat_minor": 2
}